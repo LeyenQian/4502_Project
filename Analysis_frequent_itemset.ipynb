{
 "cells": [
  {
   "cell_type": "code",
   "execution_count": 1,
   "metadata": {},
   "outputs": [],
   "source": [
    "from mlxtend.frequent_patterns import apriori\n",
    "from mlxtend.preprocessing import TransactionEncoder\n",
    "import pandas as pd\n",
    "import numpy as np\n",
    "import matplotlib.pyplot as plt"
   ]
  },
  {
   "cell_type": "code",
   "execution_count": 2,
   "metadata": {},
   "outputs": [],
   "source": [
    "def fun(char):\n",
    "    '''\n",
    "    filter function, is used to delete all puntuation\n",
    "    \n",
    "    '''\n",
    "    filters = [' ']\n",
    "    for i in range(97, 123):\n",
    "        filters.append(chr(i))\n",
    "    if char in filters:\n",
    "        return True\n",
    "    else:\n",
    "        return False\n",
    "\n",
    "def splite_words(string):\n",
    "    '''\n",
    "    convert string of article to words\n",
    "    \n",
    "    input: string (article)\n",
    "    \n",
    "    return: list of words\n",
    "    '''\n",
    "    data = to_english(string)\n",
    "    data = data.lower()\n",
    "    data = ''.join(filter(fun, data))\n",
    "    data = data.split()\n",
    "    \n",
    "    return data\n",
    "\n",
    "def to_english(string):\n",
    "    '''\n",
    "    convert non english characters to english\n",
    "    \n",
    "    input: string that may include non english characters\n",
    "    \n",
    "    return: normalized english string\n",
    "    \n",
    "    '''\n",
    "    import unicodedata\n",
    "    return ''.join(c for c in unicodedata.normalize('NFD', string) if unicodedata.category(c) != 'Mn')\n",
    "\n",
    "\n",
    "def exclude_frequent_words(original_article, frequent_words):\n",
    "    '''\n",
    "    exclude the frequent words from the splitted original article\n",
    "    \n",
    "    :param original_article: a list of words from the splitted original articla\n",
    "    :param frequent_words: a list of chosen frequent_words\n",
    "    \n",
    "    return a list of words of the article with frequent words being excluded\n",
    "    '''\n",
    "    excluded = []\n",
    "    for word in original_article:\n",
    "        if word not in frequent_words:\n",
    "            excluded.append(word)\n",
    "    return excluded"
   ]
  },
  {
   "cell_type": "code",
   "execution_count": 3,
   "metadata": {},
   "outputs": [
    {
     "name": "stdout",
     "output_type": "stream",
     "text": [
      "First 210 most commonly used words:\n",
      "['the', 'of', 'and', 'to', 'a', 'in', 'for', 'is', 'on', 'that', 'by', 'this', 'with', 'i', 'you', 'it', 'not', 'or', 'be', 'are', 'from', 'at', 'as', 'your', 'all', 'have', 'new', 'more', 'an', 'was', 'we', 'will', 'home', 'can', 'us', 'about', 'if', 'page', 'my', 'has', 'search', 'free', 'but', 'our', 'one', 'other', 'do', 'no', 'information', 'time', 'they', 'site', 'he', 'up', 'may', 'what', 'which', 'their', 'news', 'out', 'use', 'any', 'there', 'see', 'only', 'so', 'his', 'when', 'contact', 'here', 'business', 'who', 'web', 'also', 'now', 'help', 'get', 'pm', 'view', 'online', 'c', 'e', 'first', 'am', 'been', 'would', 'how', 'were', 'me', 's', 'services', 'some', 'these', 'click', 'its', 'like', 'service', 'x', 'than', 'find', 'price', 'date', 'back', 'top', 'people', 'had', 'list', 'name', 'just', 'over', 'state', 'year', 'day', 'into', 'email', 'two', 'health', 'n', 'world', 're', 'next', 'used', 'go', 'b', 'work', 'last', 'most', 'products', 'music', 'buy', 'data', 'make', 'them', 'should', 'product', 'system', 'post', 'her', 'city', 't', 'add', 'policy', 'number', 'such', 'please', 'available', 'copyright', 'support', 'message', 'after', 'best', 'software', 'then', 'jan', 'good', 'video', 'well', 'd', 'where', 'info', 'rights', 'public', 'books', 'high', 'school', 'through', 'm', 'each', 'links', 'she', 'review', 'years', 'order', 'very', 'privacy', 'book', 'items', 'company', 'r', 'read', 'group', 'sex', 'need', 'many', 'user', 'said', 'de', 'does', 'set', 'under', 'general', 'research', 'university', 'january', 'mail', 'full', 'map', 'reviews', 'program', 'life', 'know', 'games', 'way', 'days', 'management', 'p', 'part', 'could', 'great', 'united']\n"
     ]
    }
   ],
   "source": [
    "# First read in the most commonly used words, so that we can exclude these words in our analysis\n",
    "\n",
    "df_frequent_words = pd.read_csv('unigram_freq.csv')\n",
    "df_frequent_words.head()\n",
    "\n",
    "frequent_words = []\n",
    "for idx, row in df_frequent_words.iterrows():\n",
    "    if idx == 210:\n",
    "        break\n",
    "    frequent_words.append(row[0])\n",
    "    \n",
    "print('First', len(frequent_words), 'most commonly used words:')\n",
    "print(frequent_words)\n"
   ]
  },
  {
   "cell_type": "code",
   "execution_count": null,
   "metadata": {},
   "outputs": [],
   "source": []
  },
  {
   "cell_type": "code",
   "execution_count": 4,
   "metadata": {},
   "outputs": [],
   "source": [
    "# Read in the data from all the crawled news areticles, then encode them into a dataframe\n",
    "\n",
    "pos = 'result_csv/'\n",
    "files = ['ABC_Business.csv', 'ABC_Politics.csv', 'ABC_US.csv', 'BBC_Business.csv', 'BBC_Politics.csv', 'BBC_US_Canada.csv', 'CNN_Business.csv', 'CNN_Politics.csv', 'CNN_US.csv']\n",
    "\n",
    "data = pd.DataFrame()\n",
    "for file in files:\n",
    "    data = pd.concat([data, pd.read_csv(pos + file)])\n",
    "\n",
    "articles = []\n",
    "for idx, row in data.iterrows():\n",
    "    articles.append(exclude_frequent_words(splite_words(row[2]),frequent_words))\n",
    "\n",
    "te = TransactionEncoder()\n",
    "te_ary = te.fit(articles).transform(articles)\n",
    "df = pd.DataFrame(te_ary, columns=te.columns_)"
   ]
  },
  {
   "cell_type": "code",
   "execution_count": 5,
   "metadata": {},
   "outputs": [
    {
     "data": {
      "text/plain": [
       "(595, 26093)"
      ]
     },
     "execution_count": 5,
     "metadata": {},
     "output_type": "execute_result"
    }
   ],
   "source": [
    "df.shape"
   ]
  },
  {
   "cell_type": "code",
   "execution_count": 6,
   "metadata": {},
   "outputs": [
    {
     "data": {
      "text/html": [
       "<div>\n",
       "<style scoped>\n",
       "    .dataframe tbody tr th:only-of-type {\n",
       "        vertical-align: middle;\n",
       "    }\n",
       "\n",
       "    .dataframe tbody tr th {\n",
       "        vertical-align: top;\n",
       "    }\n",
       "\n",
       "    .dataframe thead th {\n",
       "        text-align: right;\n",
       "    }\n",
       "</style>\n",
       "<table border=\"1\" class=\"dataframe\">\n",
       "  <thead>\n",
       "    <tr style=\"text-align: right;\">\n",
       "      <th></th>\n",
       "      <th>aaacheap</th>\n",
       "      <th>aamer</th>\n",
       "      <th>aaron</th>\n",
       "      <th>ab</th>\n",
       "      <th>ababa</th>\n",
       "      <th>abandon</th>\n",
       "      <th>abandoned</th>\n",
       "      <th>abbey</th>\n",
       "      <th>abbott</th>\n",
       "      <th>abboud</th>\n",
       "      <th>...</th>\n",
       "      <th>zola</th>\n",
       "      <th>zolkind</th>\n",
       "      <th>zone</th>\n",
       "      <th>zones</th>\n",
       "      <th>zoo</th>\n",
       "      <th>zoom</th>\n",
       "      <th>zoos</th>\n",
       "      <th>zte</th>\n",
       "      <th>zuckerberg</th>\n",
       "      <th>zurchertwo</th>\n",
       "    </tr>\n",
       "  </thead>\n",
       "  <tbody>\n",
       "    <tr>\n",
       "      <th>0</th>\n",
       "      <td>False</td>\n",
       "      <td>False</td>\n",
       "      <td>False</td>\n",
       "      <td>False</td>\n",
       "      <td>False</td>\n",
       "      <td>False</td>\n",
       "      <td>False</td>\n",
       "      <td>False</td>\n",
       "      <td>False</td>\n",
       "      <td>False</td>\n",
       "      <td>...</td>\n",
       "      <td>False</td>\n",
       "      <td>False</td>\n",
       "      <td>False</td>\n",
       "      <td>False</td>\n",
       "      <td>False</td>\n",
       "      <td>False</td>\n",
       "      <td>False</td>\n",
       "      <td>False</td>\n",
       "      <td>False</td>\n",
       "      <td>False</td>\n",
       "    </tr>\n",
       "    <tr>\n",
       "      <th>1</th>\n",
       "      <td>False</td>\n",
       "      <td>False</td>\n",
       "      <td>False</td>\n",
       "      <td>False</td>\n",
       "      <td>False</td>\n",
       "      <td>False</td>\n",
       "      <td>False</td>\n",
       "      <td>False</td>\n",
       "      <td>False</td>\n",
       "      <td>False</td>\n",
       "      <td>...</td>\n",
       "      <td>False</td>\n",
       "      <td>False</td>\n",
       "      <td>False</td>\n",
       "      <td>False</td>\n",
       "      <td>False</td>\n",
       "      <td>False</td>\n",
       "      <td>False</td>\n",
       "      <td>False</td>\n",
       "      <td>False</td>\n",
       "      <td>False</td>\n",
       "    </tr>\n",
       "    <tr>\n",
       "      <th>2</th>\n",
       "      <td>False</td>\n",
       "      <td>False</td>\n",
       "      <td>False</td>\n",
       "      <td>False</td>\n",
       "      <td>False</td>\n",
       "      <td>False</td>\n",
       "      <td>False</td>\n",
       "      <td>False</td>\n",
       "      <td>False</td>\n",
       "      <td>False</td>\n",
       "      <td>...</td>\n",
       "      <td>False</td>\n",
       "      <td>False</td>\n",
       "      <td>False</td>\n",
       "      <td>False</td>\n",
       "      <td>False</td>\n",
       "      <td>False</td>\n",
       "      <td>False</td>\n",
       "      <td>False</td>\n",
       "      <td>False</td>\n",
       "      <td>False</td>\n",
       "    </tr>\n",
       "    <tr>\n",
       "      <th>3</th>\n",
       "      <td>False</td>\n",
       "      <td>False</td>\n",
       "      <td>False</td>\n",
       "      <td>False</td>\n",
       "      <td>False</td>\n",
       "      <td>False</td>\n",
       "      <td>False</td>\n",
       "      <td>False</td>\n",
       "      <td>False</td>\n",
       "      <td>False</td>\n",
       "      <td>...</td>\n",
       "      <td>False</td>\n",
       "      <td>False</td>\n",
       "      <td>False</td>\n",
       "      <td>False</td>\n",
       "      <td>False</td>\n",
       "      <td>False</td>\n",
       "      <td>False</td>\n",
       "      <td>False</td>\n",
       "      <td>False</td>\n",
       "      <td>False</td>\n",
       "    </tr>\n",
       "    <tr>\n",
       "      <th>4</th>\n",
       "      <td>False</td>\n",
       "      <td>False</td>\n",
       "      <td>False</td>\n",
       "      <td>False</td>\n",
       "      <td>False</td>\n",
       "      <td>False</td>\n",
       "      <td>False</td>\n",
       "      <td>False</td>\n",
       "      <td>False</td>\n",
       "      <td>False</td>\n",
       "      <td>...</td>\n",
       "      <td>False</td>\n",
       "      <td>False</td>\n",
       "      <td>False</td>\n",
       "      <td>False</td>\n",
       "      <td>False</td>\n",
       "      <td>False</td>\n",
       "      <td>False</td>\n",
       "      <td>False</td>\n",
       "      <td>False</td>\n",
       "      <td>False</td>\n",
       "    </tr>\n",
       "  </tbody>\n",
       "</table>\n",
       "<p>5 rows × 26093 columns</p>\n",
       "</div>"
      ],
      "text/plain": [
       "   aaacheap  aamer  aaron     ab  ababa  abandon  abandoned  abbey  abbott  \\\n",
       "0     False  False  False  False  False    False      False  False   False   \n",
       "1     False  False  False  False  False    False      False  False   False   \n",
       "2     False  False  False  False  False    False      False  False   False   \n",
       "3     False  False  False  False  False    False      False  False   False   \n",
       "4     False  False  False  False  False    False      False  False   False   \n",
       "\n",
       "   abboud  ...   zola  zolkind   zone  zones    zoo   zoom   zoos    zte  \\\n",
       "0   False  ...  False    False  False  False  False  False  False  False   \n",
       "1   False  ...  False    False  False  False  False  False  False  False   \n",
       "2   False  ...  False    False  False  False  False  False  False  False   \n",
       "3   False  ...  False    False  False  False  False  False  False  False   \n",
       "4   False  ...  False    False  False  False  False  False  False  False   \n",
       "\n",
       "   zuckerberg  zurchertwo  \n",
       "0       False       False  \n",
       "1       False       False  \n",
       "2       False       False  \n",
       "3       False       False  \n",
       "4       False       False  \n",
       "\n",
       "[5 rows x 26093 columns]"
      ]
     },
     "execution_count": 6,
     "metadata": {},
     "output_type": "execute_result"
    }
   ],
   "source": [
    "df.head()"
   ]
  },
  {
   "cell_type": "code",
   "execution_count": null,
   "metadata": {},
   "outputs": [],
   "source": []
  },
  {
   "cell_type": "code",
   "execution_count": 7,
   "metadata": {},
   "outputs": [],
   "source": [
    "# First trial for applying apriori algorithm, with min_support = 0.05\n",
    "\n",
    "frequent_itemsets = apriori(df, min_support=0.05, use_colnames=True)"
   ]
  },
  {
   "cell_type": "code",
   "execution_count": 9,
   "metadata": {},
   "outputs": [
    {
     "data": {
      "text/html": [
       "<div>\n",
       "<style scoped>\n",
       "    .dataframe tbody tr th:only-of-type {\n",
       "        vertical-align: middle;\n",
       "    }\n",
       "\n",
       "    .dataframe tbody tr th {\n",
       "        vertical-align: top;\n",
       "    }\n",
       "\n",
       "    .dataframe thead th {\n",
       "        text-align: right;\n",
       "    }\n",
       "</style>\n",
       "<table border=\"1\" class=\"dataframe\">\n",
       "  <thead>\n",
       "    <tr style=\"text-align: right;\">\n",
       "      <th></th>\n",
       "      <th>support</th>\n",
       "      <th>itemsets</th>\n",
       "    </tr>\n",
       "  </thead>\n",
       "  <tbody>\n",
       "    <tr>\n",
       "      <th>0</th>\n",
       "      <td>0.205042</td>\n",
       "      <td>(abc)</td>\n",
       "    </tr>\n",
       "    <tr>\n",
       "      <th>1</th>\n",
       "      <td>0.073950</td>\n",
       "      <td>(ability)</td>\n",
       "    </tr>\n",
       "    <tr>\n",
       "      <th>2</th>\n",
       "      <td>0.146218</td>\n",
       "      <td>(able)</td>\n",
       "    </tr>\n",
       "    <tr>\n",
       "      <th>3</th>\n",
       "      <td>0.055462</td>\n",
       "      <td>(above)</td>\n",
       "    </tr>\n",
       "    <tr>\n",
       "      <th>4</th>\n",
       "      <td>0.075630</td>\n",
       "      <td>(abuse)</td>\n",
       "    </tr>\n",
       "    <tr>\n",
       "      <th>...</th>\n",
       "      <td>...</td>\n",
       "      <td>...</td>\n",
       "    </tr>\n",
       "    <tr>\n",
       "      <th>198658</th>\n",
       "      <td>0.050420</td>\n",
       "      <td>(democrats, trumps, presidents, congress, trum...</td>\n",
       "    </tr>\n",
       "    <tr>\n",
       "      <th>198659</th>\n",
       "      <td>0.050420</td>\n",
       "      <td>(inquiry, trumps, congress, presidents, trump,...</td>\n",
       "    </tr>\n",
       "    <tr>\n",
       "      <th>198660</th>\n",
       "      <td>0.050420</td>\n",
       "      <td>(inquiry, national, democrats, trumps, trump, ...</td>\n",
       "    </tr>\n",
       "    <tr>\n",
       "      <th>198661</th>\n",
       "      <td>0.050420</td>\n",
       "      <td>(inquiry, committee, intelligence, report, tru...</td>\n",
       "    </tr>\n",
       "    <tr>\n",
       "      <th>198662</th>\n",
       "      <td>0.050420</td>\n",
       "      <td>(inquiry, democrats, trumps, presidents, congr...</td>\n",
       "    </tr>\n",
       "  </tbody>\n",
       "</table>\n",
       "<p>198663 rows × 2 columns</p>\n",
       "</div>"
      ],
      "text/plain": [
       "         support                                           itemsets\n",
       "0       0.205042                                              (abc)\n",
       "1       0.073950                                          (ability)\n",
       "2       0.146218                                             (able)\n",
       "3       0.055462                                            (above)\n",
       "4       0.075630                                            (abuse)\n",
       "...          ...                                                ...\n",
       "198658  0.050420  (democrats, trumps, presidents, congress, trum...\n",
       "198659  0.050420  (inquiry, trumps, congress, presidents, trump,...\n",
       "198660  0.050420  (inquiry, national, democrats, trumps, trump, ...\n",
       "198661  0.050420  (inquiry, committee, intelligence, report, tru...\n",
       "198662  0.050420  (inquiry, democrats, trumps, presidents, congr...\n",
       "\n",
       "[198663 rows x 2 columns]"
      ]
     },
     "execution_count": 9,
     "metadata": {},
     "output_type": "execute_result"
    }
   ],
   "source": [
    "frequent_itemsets"
   ]
  },
  {
   "cell_type": "code",
   "execution_count": 10,
   "metadata": {},
   "outputs": [
    {
     "name": "stdout",
     "output_type": "stream",
     "text": [
      "frozenset({'inquiry', 'democrats', 'trumps', 'presidents', 'congress', 'trump', 'political', 'donald', 'president', 'impeachment', 'house'})\n"
     ]
    }
   ],
   "source": [
    "print(frequent_itemsets.iloc[-1][1])"
   ]
  },
  {
   "cell_type": "code",
   "execution_count": 14,
   "metadata": {},
   "outputs": [
    {
     "name": "stdout",
     "output_type": "stream",
     "text": [
      "We found that the runtime of apriori algorithm become considerably large as the size of the maximum frequent itemsets achieve 11, in our data. \n"
     ]
    }
   ],
   "source": [
    "print(\"We found that the runtime of apriori algorithm become considerably large as the size of the maximum frequent itemsets achieve 11, in our data. \")"
   ]
  },
  {
   "cell_type": "code",
   "execution_count": null,
   "metadata": {},
   "outputs": [],
   "source": []
  },
  {
   "cell_type": "code",
   "execution_count": 12,
   "metadata": {},
   "outputs": [],
   "source": [
    "max_itemset = len(frequent_itemsets.iloc[-1][1])"
   ]
  },
  {
   "cell_type": "code",
   "execution_count": 13,
   "metadata": {},
   "outputs": [
    {
     "name": "stdout",
     "output_type": "stream",
     "text": [
      "11\n"
     ]
    }
   ],
   "source": [
    "print(max_itemset)"
   ]
  },
  {
   "cell_type": "code",
   "execution_count": 17,
   "metadata": {},
   "outputs": [
    {
     "name": "stdout",
     "output_type": "stream",
     "text": [
      "current min_support: 0.2\n",
      "current max_itemset: 0\n",
      "\n",
      "current min_support: 0.19\n",
      "current max_itemset: 4\n",
      "\n",
      "current min_support: 0.18\n",
      "current max_itemset: 4\n",
      "\n",
      "current min_support: 0.16999999999999998\n",
      "current max_itemset: 4\n",
      "\n",
      "current min_support: 0.15999999999999998\n",
      "current max_itemset: 4\n",
      "\n",
      "current min_support: 0.14999999999999997\n",
      "current max_itemset: 4\n",
      "\n",
      "current min_support: 0.13999999999999996\n",
      "current max_itemset: 5\n",
      "\n",
      "current min_support: 0.12999999999999995\n",
      "current max_itemset: 5\n",
      "\n",
      "current min_support: 0.11999999999999995\n",
      "current max_itemset: 5\n",
      "\n",
      "current min_support: 0.10999999999999996\n",
      "current max_itemset: 6\n",
      "\n",
      "current min_support: 0.09999999999999996\n",
      "current max_itemset: 6\n",
      "\n",
      "current min_support: 0.08999999999999997\n",
      "current max_itemset: 7\n",
      "\n",
      "current min_support: 0.07999999999999997\n",
      "current max_itemset: 8\n",
      "\n",
      "current min_support: 0.06999999999999998\n",
      "current max_itemset: 8\n",
      "\n",
      "current min_support: 0.05999999999999998\n",
      "current max_itemset: 9\n",
      "\n",
      "Final min_support for our constraint:\n",
      "0.049999999999999975\n"
     ]
    }
   ],
   "source": [
    "# This is the method to choose appropriate min_support, in order to keep the runtime in control.\n",
    "\n",
    "# We can also set a tolerance value for the size of maximum frequent itemset.\n",
    "tol = 0\n",
    "\n",
    "# We choose the starting min_support to be 0.2, which is a very big support threshold in most of the data.\n",
    "min_support = 0.2\n",
    "\n",
    "# The loop terminate once the size of maximum frequent itemset get large as we mentioned.\n",
    "max_itemset = 0\n",
    "while (11-max_itemset) > tol:\n",
    "    min_support = min_support-0.01\n",
    "    frequent_itemsets = apriori(df, min_support=min_support, use_colnames=True)\n",
    "    max_itemset = len(frequent_itemsets.iloc[-1][1])\n",
    "    print(\"current min_support:\", min_support)\n",
    "    print(\"current max_itemset:\", max_itemset)\n",
    "    print()\n",
    "print(\"Final min_support for our constraint:\")\n",
    "print(min_support)\n"
   ]
  },
  {
   "cell_type": "code",
   "execution_count": null,
   "metadata": {},
   "outputs": [],
   "source": []
  },
  {
   "cell_type": "code",
   "execution_count": 20,
   "metadata": {},
   "outputs": [
    {
     "name": "stdout",
     "output_type": "stream",
     "text": [
      "current min_support: 0.3\n",
      "current max_itemset: 2\n",
      "\n",
      "current min_support: 0.29\n",
      "current max_itemset: 2\n",
      "\n",
      "current min_support: 0.27999999999999997\n",
      "current max_itemset: 3\n",
      "\n",
      "current min_support: 0.26999999999999996\n",
      "current max_itemset: 3\n",
      "\n",
      "current min_support: 0.25999999999999995\n",
      "current max_itemset: 3\n",
      "\n",
      "current min_support: 0.24999999999999994\n",
      "current max_itemset: 3\n",
      "\n",
      "current min_support: 0.23999999999999994\n",
      "current max_itemset: 3\n",
      "\n",
      "current min_support: 0.22999999999999993\n",
      "current max_itemset: 3\n",
      "\n",
      "current min_support: 0.21999999999999992\n",
      "current max_itemset: 3\n",
      "\n",
      "current min_support: 0.2099999999999999\n",
      "current max_itemset: 3\n",
      "\n",
      "current min_support: 0.1999999999999999\n",
      "current max_itemset: 3\n",
      "\n",
      "current min_support: 0.1899999999999999\n",
      "current max_itemset: 4\n",
      "\n",
      "current min_support: 0.17999999999999988\n",
      "current max_itemset: 4\n",
      "\n",
      "current min_support: 0.16999999999999987\n",
      "current max_itemset: 4\n",
      "\n",
      "current min_support: 0.15999999999999986\n",
      "current max_itemset: 4\n",
      "\n",
      "current min_support: 0.14999999999999986\n",
      "current max_itemset: 4\n",
      "\n",
      "current min_support: 0.13999999999999985\n",
      "current max_itemset: 5\n",
      "\n",
      "current min_support: 0.12999999999999984\n",
      "current max_itemset: 5\n",
      "\n",
      "current min_support: 0.11999999999999983\n",
      "current max_itemset: 5\n",
      "\n",
      "current min_support: 0.10999999999999982\n",
      "current max_itemset: 6\n",
      "\n",
      "current min_support: 0.09999999999999981\n",
      "current max_itemset: 6\n",
      "\n",
      "current min_support: 0.0899999999999998\n",
      "current max_itemset: 7\n",
      "\n",
      "current min_support: 0.0799999999999998\n",
      "current max_itemset: 8\n",
      "\n",
      "current min_support: 0.06999999999999978\n",
      "current max_itemset: 8\n",
      "\n",
      "current min_support: 0.059999999999999776\n",
      "current max_itemset: 9\n",
      "\n",
      "current min_support: 0.04999999999999977\n",
      "current max_itemset: 11\n",
      "\n"
     ]
    }
   ],
   "source": [
    "# Then we try to plot the relationship between the min_support \n",
    "# and the largest size of corresponding frequent itemsets\n",
    "\n",
    "min_support_choices = np.arange(0.3,0,-0.01)\n",
    "len_max_itemsets = []\n",
    "\n",
    "for min_support in min_support_choices:\n",
    "    frequent_itemsets = apriori(df, min_support=min_support, use_colnames=True)\n",
    "    if frequent_itemsets.shape[0] != 0:\n",
    "        max_itemset = len(frequent_itemsets.iloc[-1][1])\n",
    "    else:\n",
    "        max_itemset = 0\n",
    "    len_max_itemsets.append(max_itemset)\n",
    "    print(\"current min_support:\", min_support)\n",
    "    print(\"current max_itemset:\", max_itemset)\n",
    "    print()\n",
    "    if max_itemset >= 11:\n",
    "        break\n",
    "    "
   ]
  },
  {
   "cell_type": "code",
   "execution_count": 23,
   "metadata": {},
   "outputs": [
    {
     "name": "stdout",
     "output_type": "stream",
     "text": [
      "[0.3  0.29 0.28 0.27 0.26 0.25 0.24 0.23 0.22 0.21 0.2  0.19 0.18 0.17\n",
      " 0.16 0.15 0.14 0.13 0.12 0.11 0.1  0.09 0.08 0.07 0.06 0.05]\n",
      "[2, 2, 3, 3, 3, 3, 3, 3, 3, 3, 3, 4, 4, 4, 4, 4, 5, 5, 5, 6, 6, 7, 8, 8, 9, 11]\n"
     ]
    }
   ],
   "source": [
    "print(min_support_choices[:len(len_max_itemsets)])\n",
    "print(len_max_itemsets)"
   ]
  },
  {
   "cell_type": "code",
   "execution_count": 24,
   "metadata": {},
   "outputs": [
    {
     "data": {
      "text/plain": [
       "[<matplotlib.lines.Line2D at 0x125229dd8>]"
      ]
     },
     "execution_count": 24,
     "metadata": {},
     "output_type": "execute_result"
    },
    {
     "data": {
      "image/png": "[encoded data removed]",
      "text/plain": [
       "<Figure size 432x288 with 1 Axes>"
      ]
     },
     "metadata": {
      "needs_background": "light"
     },
     "output_type": "display_data"
    }
   ],
   "source": [
    "plt.title('size of largest frequent itemset vs support threshold')\n",
    "plt.xlabel('support threshold')\n",
    "plt.ylabel('size of largest frequent itemset')\n",
    "plt.plot(min_support_choices[:len(len_max_itemsets)], len_max_itemsets)\n"
   ]
  },
  {
   "cell_type": "code",
   "execution_count": 25,
   "metadata": {},
   "outputs": [
    {
     "data": {
      "text/plain": [
       "<matplotlib.collections.PathCollection at 0x130f385f8>"
      ]
     },
     "execution_count": 25,
     "metadata": {},
     "output_type": "execute_result"
    },
    {
     "data": {
      "image/png": "[encoded data removed]",
      "text/plain": [
       "<Figure size 432x288 with 1 Axes>"
      ]
     },
     "metadata": {
      "needs_background": "light"
     },
     "output_type": "display_data"
    }
   ],
   "source": [
    "plt.title('size of largest frequent itemset vs support threshold')\n",
    "plt.xlabel('support threshold')\n",
    "plt.ylabel('size of largest frequent itemset')\n",
    "plt.scatter(min_support_choices[:len(len_max_itemsets)], len_max_itemsets)\n"
   ]
  },
  {
   "cell_type": "code",
   "execution_count": 26,
   "metadata": {},
   "outputs": [],
   "source": [
    "# Then we try to only investigate in the changing point,\n",
    "# the points that the size of largest frequent itemset changes as the support threshold decreases\n",
    "\n",
    "set_support_threshold = []\n",
    "set_len_max_itemsets = []\n",
    "for idx in range(0,len(len_max_itemsets)-1):\n",
    "    if len_max_itemsets[idx] != len_max_itemsets[idx+1]:\n",
    "        set_support_threshold.append(min_support_choices[idx])\n",
    "        set_len_max_itemsets.append(len_max_itemsets[idx])\n",
    "set_support_threshold.append(min_support_choices[len(len_max_itemsets)-1])\n",
    "set_len_max_itemsets.append(len_max_itemsets[-1])"
   ]
  },
  {
   "cell_type": "code",
   "execution_count": 27,
   "metadata": {},
   "outputs": [
    {
     "name": "stdout",
     "output_type": "stream",
     "text": [
      "[0.29, 0.1999999999999999, 0.14999999999999986, 0.11999999999999983, 0.09999999999999981, 0.0899999999999998, 0.06999999999999978, 0.059999999999999776, 0.04999999999999977]\n",
      "[2, 3, 4, 5, 6, 7, 8, 9, 11]\n"
     ]
    }
   ],
   "source": [
    "print(set_support_threshold)\n",
    "print(set_len_max_itemsets)"
   ]
  },
  {
   "cell_type": "code",
   "execution_count": 28,
   "metadata": {},
   "outputs": [
    {
     "data": {
      "text/plain": [
       "[<matplotlib.lines.Line2D at 0x144b37908>]"
      ]
     },
     "execution_count": 28,
     "metadata": {},
     "output_type": "execute_result"
    },
    {
     "data": {
      "image/png": "[encoded data removed]",
      "text/plain": [
       "<Figure size 432x288 with 1 Axes>"
      ]
     },
     "metadata": {
      "needs_background": "light"
     },
     "output_type": "display_data"
    }
   ],
   "source": [
    "plt.title('size of largest frequent itemset vs support threshold, modified')\n",
    "plt.xlabel('support threshold')\n",
    "plt.ylabel('size of largest frequent itemset')\n",
    "plt.plot(set_support_threshold, set_len_max_itemsets)"
   ]
  },
  {
   "cell_type": "code",
   "execution_count": 29,
   "metadata": {},
   "outputs": [
    {
     "data": {
      "text/plain": [
       "<matplotlib.collections.PathCollection at 0x129b4fb00>"
      ]
     },
     "execution_count": 29,
     "metadata": {},
     "output_type": "execute_result"
    },
    {
     "data": {
      "image/png": "[encoded data removed]",
      "text/plain": [
       "<Figure size 432x288 with 1 Axes>"
      ]
     },
     "metadata": {
      "needs_background": "light"
     },
     "output_type": "display_data"
    }
   ],
   "source": [
    "plt.title('size of largest frequent itemset vs support threshold, modified')\n",
    "plt.xlabel('support threshold')\n",
    "plt.ylabel('size of largest frequent itemset')\n",
    "plt.scatter(set_support_threshold, set_len_max_itemsets)"
   ]
  },
  {
   "cell_type": "code",
   "execution_count": 30,
   "metadata": {},
   "outputs": [
    {
     "data": {
      "text/plain": [
       "[<matplotlib.lines.Line2D at 0x12d337c50>]"
      ]
     },
     "execution_count": 30,
     "metadata": {},
     "output_type": "execute_result"
    },
    {
     "data": {
      "image/png": "[encoded data removed]",
      "text/plain": [
       "<Figure size 432x288 with 1 Axes>"
      ]
     },
     "metadata": {
      "needs_background": "light"
     },
     "output_type": "display_data"
    }
   ],
   "source": [
    "plt.title('size of largest frequent itemset vs support threshold, modified, loglog')\n",
    "plt.xlabel('support threshold')\n",
    "plt.ylabel('size of largest frequent itemset')\n",
    "plt.loglog(set_support_threshold, set_len_max_itemsets)"
   ]
  },
  {
   "cell_type": "code",
   "execution_count": null,
   "metadata": {},
   "outputs": [],
   "source": []
  },
  {
   "cell_type": "code",
   "execution_count": null,
   "metadata": {},
   "outputs": [],
   "source": []
  },
  {
   "cell_type": "code",
   "execution_count": null,
   "metadata": {},
   "outputs": [],
   "source": [
    "# These are the basic processes when choosing the words to applied in following k_means analysis\n",
    "\n",
    "words_to_choose = []\n",
    "\n",
    "pos = 'result_csv/'\n",
    "total_files = ['ABC_Business.csv', 'ABC_Politics.csv', 'ABC_US.csv', 'BBC_Business.csv', 'BBC_Politics.csv', 'BBC_US_Canada.csv', 'CNN_Business.csv', 'CNN_Politics.csv', 'CNN_US.csv']\n",
    "ss = [0.07, 0.17, 0.07, 0.19, 0.12, 0.25, 0.15, 0.22, 0.15]\n",
    "\n",
    "for iter_idx in range(9):\n",
    "    files = [total_files[iter_idx]]\n",
    "\n",
    "    data = pd.DataFrame()\n",
    "    for file in files:\n",
    "        data = pd.concat([data, pd.read_csv(pos + file)])\n",
    "\n",
    "    articles = []\n",
    "    for idx, row in data.iterrows():\n",
    "        articles.append(exclude_frequent_words(splite_words(row[2]),frequent_words))\n",
    "\n",
    "    te = TransactionEncoder()\n",
    "    te_ary = te.fit(articles).transform(articles)\n",
    "    df = pd.DataFrame(te_ary, columns=te.columns_)\n",
    "    frequent_itemsets = apriori(df, min_support=ss[iter_idx], use_colnames=True)\n",
    "    words_to_choose.append(list(frequent_itemsets.iloc[-1,1]))\n",
    "    print(iter_idx)\n",
    "    print(words_to_choose[iter_idx])\n",
    "    print()"
   ]
  },
  {
   "cell_type": "code",
   "execution_count": null,
   "metadata": {},
   "outputs": [],
   "source": [
    "# The frequen_itemsets with length = 11 from each different news sources\n",
    "\n",
    "for iter_idx in range(9):\n",
    "    print(total_files[iter_idx])\n",
    "    print(words_to_choose[iter_idx])\n",
    "    print()"
   ]
  },
  {
   "cell_type": "code",
   "execution_count": null,
   "metadata": {},
   "outputs": [],
   "source": [
    "# These are the finally chosen words for following k_means analysis\n",
    "\n",
    "['trade', 'tariffs', 'jones', 'trump', 'impeachment', 'china', 'actions', 'investigation', 'according', 'labour']"
   ]
  }
 ],
 "metadata": {
  "kernelspec": {
   "display_name": "Python 3",
   "language": "python",
   "name": "python3"
  },
  "language_info": {
   "codemirror_mode": {
    "name": "ipython",
    "version": 3
   },
   "file_extension": ".py",
   "mimetype": "text/x-python",
   "name": "python",
   "nbconvert_exporter": "python",
   "pygments_lexer": "ipython3",
   "version": "3.7.2"
  }
 },
 "nbformat": 4,
 "nbformat_minor": 2
}
